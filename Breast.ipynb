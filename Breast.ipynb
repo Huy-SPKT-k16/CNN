{
  "nbformat": 4,
  "nbformat_minor": 0,
  "metadata": {
    "colab": {
      "name": "Breast.ipynb",
      "provenance": [],
      "mount_file_id": "1Pj3cmuy3iImAnJXBw2uYBZHGF38pdHaE",
      "authorship_tag": "ABX9TyM53DPx27a4WpYURcUBlbUd",
      "include_colab_link": true
    },
    "kernelspec": {
      "name": "python3",
      "display_name": "Python 3"
    },
    "language_info": {
      "name": "python"
    }
  },
  "cells": [
    {
      "cell_type": "markdown",
      "metadata": {
        "id": "view-in-github",
        "colab_type": "text"
      },
      "source": [
        "<a href=\"https://colab.research.google.com/github/Huy-SPKT-k16/CNN/blob/main/Breast.ipynb\" target=\"_parent\"><img src=\"https://colab.research.google.com/assets/colab-badge.svg\" alt=\"Open In Colab\"/></a>"
      ]
    },
    {
      "cell_type": "code",
      "metadata": {
        "id": "t5uSY8RfOBbY",
        "colab": {
          "base_uri": "https://localhost:8080/"
        },
        "outputId": "6b379e3a-964b-4d18-84d2-5484314ddda1"
      },
      "source": [
        "!free -h"
      ],
      "execution_count": 1,
      "outputs": [
        {
          "output_type": "stream",
          "text": [
            "              total        used        free      shared  buff/cache   available\n",
            "Mem:            12G        641M         11G        1.1M        1.1G         11G\n",
            "Swap:            0B          0B          0B\n"
          ],
          "name": "stdout"
        }
      ]
    },
    {
      "cell_type": "code",
      "metadata": {
        "id": "-H4aZg0axRfV"
      },
      "source": [
        "# !cd \"/content/drive/MyDrive/Colab Notebooks\"\n",
        "# !unzip -u \"/content/drive/MyDrive/Colab Notebooks/Benign.zip\" -d \"../root/.keras/datasets/BreastDataset/\"\n",
        "# !unzip -u \"/content/drive/MyDrive/Colab Notebooks/Invasive.zip\" -d \"../root/.keras/datasets/BreastDataset/\"\n",
        "# !unzip -u \"/content/drive/MyDrive/Colab Notebooks/Normal.zip\" -d \"../root/.keras/datasets/BreastDataset/\""
      ],
      "execution_count": 2,
      "outputs": []
    },
    {
      "cell_type": "code",
      "metadata": {
        "id": "fVslQtLEyL_3"
      },
      "source": [
        "import numpy as np \n",
        "import matplotlib.pyplot as plt \n",
        "import pathlib\n",
        "import os, sys\n",
        "import cv2 \n",
        "import pickle\n",
        "import tensorflow as tf\n",
        "from tensorflow.keras import layers\n",
        "from tensorflow.keras.models import Sequential, load_model\n",
        "from tensorflow.keras.layers import Dense, Dropout, Activation, Flatten, Conv2D, MaxPool2D, AveragePooling2D, MaxPooling2D\n",
        "from tensorflow.keras.utils import to_categorical\n",
        "from sklearn.model_selection import train_test_split"
      ],
      "execution_count": 28,
      "outputs": []
    },
    {
      "cell_type": "code",
      "metadata": {
        "id": "t-Ofz8VONp6g"
      },
      "source": [
        "data_dir = \"/content/drive/MyDrive/Colab Notebooks/dataset\"\n",
        "data_dir = pathlib.Path(data_dir)\n",
        "categories = os.listdir(data_dir) \n",
        "number_classes = len(categories)"
      ],
      "execution_count": 4,
      "outputs": []
    },
    {
      "cell_type": "code",
      "metadata": {
        "id": "iPZ7_2QZ9J8J"
      },
      "source": [
        "batch_size = 32\n",
        "img_height = 1536\n",
        "img_width = 2048\n",
        "scale_percent = 25\n",
        "width = int(img_width * scale_percent / 100)\n",
        "height = int(img_height * scale_percent / 100)\n",
        "dim = (width, height)"
      ],
      "execution_count": 5,
      "outputs": []
    },
    {
      "cell_type": "code",
      "metadata": {
        "id": "wmoP4aRW6akd"
      },
      "source": [
        "X = []\n",
        "y = []"
      ],
      "execution_count": 6,
      "outputs": []
    },
    {
      "cell_type": "code",
      "metadata": {
        "id": "UMCVXakryL2_"
      },
      "source": [
        "# new_img_array = None\n",
        "\n",
        "# def create_training_data():\n",
        "#   for category in categories: \n",
        "#     path = os.path.join(data_dir, category)  \n",
        "#     label_number = categories.index(category) \n",
        "#     for img in os.listdir(path): \n",
        "#     # try:\n",
        "#       img_array     = cv2.imread(os.path.join(path, img), cv2.IMREAD_ANYCOLOR) \n",
        "#       new_img_array = cv2.resize(img_array, dim, interpolation = cv2.INTER_AREA) \n",
        "#       new_img_array = np.array(new_img_array)\n",
        "\n",
        "#       X.append(new_img_array)  \n",
        "#       y.append(label_number)  \n",
        "#     # except Exception as e:\n",
        "#     #   pass\n",
        "#     print(category + \" success!\")\n",
        "\n",
        "# create_training_data()"
      ],
      "execution_count": 7,
      "outputs": []
    },
    {
      "cell_type": "code",
      "metadata": {
        "id": "glzi9rothGiL"
      },
      "source": [
        "# # Chạy 1 lần, thành công thì không chạy nữa\n",
        "# pickle_out = open(\"/content/drive/MyDrive/Colab Notebooks/X.pickle\", \"wb\")\n",
        "# pickle.dump(X, pickle_out)\n",
        "# pickle_out.close()"
      ],
      "execution_count": 8,
      "outputs": []
    },
    {
      "cell_type": "code",
      "metadata": {
        "id": "NEno0nglhSHO"
      },
      "source": [
        "# # Chạy 1 lần, thành công thì không chạy nữa\n",
        "# pickle_out = open(\"/content/drive/MyDrive/Colab Notebooks/y.pickle\", \"wb\")\n",
        "# pickle.dump(y, pickle_out)\n",
        "# pickle_out.close()"
      ],
      "execution_count": 9,
      "outputs": []
    },
    {
      "cell_type": "code",
      "metadata": {
        "id": "H-I_7H716Yw8"
      },
      "source": [
        "# Mỗi lần chạy mô hình thì chạy để load dữ liệu\n",
        "pickle_in = open(\"/content/drive/MyDrive/Colab Notebooks/X.pickle\", \"rb\")\n",
        "X = pickle.load(pickle_in)\n",
        "pickle_in.close()\n",
        "\n",
        "pickle_in = open(\"/content/drive/MyDrive/Colab Notebooks/y.pickle\", \"rb\")\n",
        "y = pickle.load(pickle_in)\n",
        "pickle_in.close()"
      ],
      "execution_count": 10,
      "outputs": []
    },
    {
      "cell_type": "code",
      "metadata": {
        "id": "9ynvsRCPEj-K"
      },
      "source": [
        "X = np.array(X)"
      ],
      "execution_count": 11,
      "outputs": []
    },
    {
      "cell_type": "code",
      "metadata": {
        "id": "7Hmf6C8AZmov"
      },
      "source": [
        "X = X / 255"
      ],
      "execution_count": 12,
      "outputs": []
    },
    {
      "cell_type": "code",
      "metadata": {
        "colab": {
          "base_uri": "https://localhost:8080/"
        },
        "id": "_GKbdfmeNKEW",
        "outputId": "dcc9fce0-306e-45be-a7b2-c632e313d020"
      },
      "source": [
        "X.shape"
      ],
      "execution_count": 13,
      "outputs": [
        {
          "output_type": "execute_result",
          "data": {
            "text/plain": [
              "(1119, 384, 512, 3)"
            ]
          },
          "metadata": {
            "tags": []
          },
          "execution_count": 13
        }
      ]
    },
    {
      "cell_type": "code",
      "metadata": {
        "id": "yf9kFFGy9jpd"
      },
      "source": [
        "X_train, X_test, y_train, y_test = train_test_split(X, y, test_size=0.2, random_state=42, shuffle=True)\n",
        "X = y = []\n",
        "X_train, X_val, y_train, y_val =  train_test_split(X_train, y_train, test_size=0.2, random_state=42)\n",
        "y_train = to_categorical(y_train) # one hot\n",
        "# ví dụ y_number = 1 thì y = [0. 1. 0.]\n",
        "y_t = y_test\n",
        "y_test = to_categorical(y_test)\n",
        "y_val = to_categorical(y_val)"
      ],
      "execution_count": 14,
      "outputs": []
    },
    {
      "cell_type": "code",
      "metadata": {
        "colab": {
          "base_uri": "https://localhost:8080/"
        },
        "id": "s6Z5EDnvqdb_",
        "outputId": "04128934-48ed-49ff-c0ce-0eabbd7b7b9a"
      },
      "source": [
        "model = Sequential() \n",
        "\n",
        "model.add(Conv2D(filters=16, kernel_size=(3, 3), input_shape=X_train.shape[1:], padding=\"same\", activation=\"relu\"))\n",
        "model.add(AveragePooling2D(pool_size=(4, 4), strides=2))\n",
        "\n",
        "model.add(Conv2D(filters=32, kernel_size=(3, 3), activation=\"tanh\"))\n",
        "model.add(MaxPooling2D(pool_size=(2, 2), strides=2))\n",
        "\n",
        "model.add(Conv2D(filters=64, kernel_size=(3, 3), activation=\"selu\"))\n",
        "model.add(MaxPooling2D(pool_size=(2, 2), strides=2))\n",
        "\n",
        "model.add(Conv2D(filters=64, kernel_size=(3, 3), activation=\"selu\"))\n",
        "model.add(MaxPooling2D(pool_size=(2, 2), strides=2))\n",
        "\n",
        "model.add(Flatten())\n",
        "\n",
        "model.add(Dense(64))\n",
        "model.add(Activation(\"relu\"))\n",
        "\n",
        "model.add(Dense(number_classes))\n",
        "model.add(Activation(\"softmax\"))\n",
        "\n",
        "# Cung cấp cho mô hình hàm loss function lựa chọn, thuật toán tối ưu\n",
        "# categorical_crossentropy, Binary Cross Entropy\n",
        "model.compile(loss=\"categorical_crossentropy\", optimizer=\"adam\", metrics=[\"accuracy\"])\n",
        "model.summary() # xem chi tiết mô hình xây dựng của chính mình\n",
        "\n",
        "# Cuối cùng đào tạo nó\n",
        "history = model.fit(X_train, y_train, validation_data=(X_val, y_val), batch_size=32, epochs=25)"
      ],
      "execution_count": 23,
      "outputs": [
        {
          "output_type": "stream",
          "text": [
            "Model: \"sequential_7\"\n",
            "_________________________________________________________________\n",
            "Layer (type)                 Output Shape              Param #   \n",
            "=================================================================\n",
            "conv2d_28 (Conv2D)           (None, 384, 512, 16)      448       \n",
            "_________________________________________________________________\n",
            "average_pooling2d_7 (Average (None, 191, 255, 16)      0         \n",
            "_________________________________________________________________\n",
            "conv2d_29 (Conv2D)           (None, 189, 253, 32)      4640      \n",
            "_________________________________________________________________\n",
            "max_pooling2d_21 (MaxPooling (None, 94, 126, 32)       0         \n",
            "_________________________________________________________________\n",
            "conv2d_30 (Conv2D)           (None, 92, 124, 64)       18496     \n",
            "_________________________________________________________________\n",
            "max_pooling2d_22 (MaxPooling (None, 46, 62, 64)        0         \n",
            "_________________________________________________________________\n",
            "conv2d_31 (Conv2D)           (None, 44, 60, 64)        36928     \n",
            "_________________________________________________________________\n",
            "max_pooling2d_23 (MaxPooling (None, 22, 30, 64)        0         \n",
            "_________________________________________________________________\n",
            "flatten_7 (Flatten)          (None, 42240)             0         \n",
            "_________________________________________________________________\n",
            "dense_14 (Dense)             (None, 64)                2703424   \n",
            "_________________________________________________________________\n",
            "activation_14 (Activation)   (None, 64)                0         \n",
            "_________________________________________________________________\n",
            "dense_15 (Dense)             (None, 3)                 195       \n",
            "_________________________________________________________________\n",
            "activation_15 (Activation)   (None, 3)                 0         \n",
            "=================================================================\n",
            "Total params: 2,764,131\n",
            "Trainable params: 2,764,131\n",
            "Non-trainable params: 0\n",
            "_________________________________________________________________\n",
            "Epoch 1/25\n",
            "23/23 [==============================] - 142s 6s/step - loss: 4.9183 - accuracy: 0.3369 - val_loss: 1.4264 - val_accuracy: 0.4022\n",
            "Epoch 2/25\n",
            "23/23 [==============================] - 139s 6s/step - loss: 1.3536 - accuracy: 0.3072 - val_loss: 1.0789 - val_accuracy: 0.4302\n",
            "Epoch 3/25\n",
            "23/23 [==============================] - 141s 6s/step - loss: 1.0528 - accuracy: 0.4734 - val_loss: 1.1386 - val_accuracy: 0.4246\n",
            "Epoch 4/25\n",
            "23/23 [==============================] - 146s 6s/step - loss: 1.0493 - accuracy: 0.4762 - val_loss: 1.0496 - val_accuracy: 0.4022\n",
            "Epoch 5/25\n",
            "23/23 [==============================] - 140s 6s/step - loss: 0.9681 - accuracy: 0.5100 - val_loss: 0.9225 - val_accuracy: 0.5419\n",
            "Epoch 6/25\n",
            "23/23 [==============================] - 141s 6s/step - loss: 0.9370 - accuracy: 0.5899 - val_loss: 0.9949 - val_accuracy: 0.4860\n",
            "Epoch 7/25\n",
            "23/23 [==============================] - 145s 6s/step - loss: 0.9145 - accuracy: 0.5864 - val_loss: 0.8747 - val_accuracy: 0.6201\n",
            "Epoch 8/25\n",
            "23/23 [==============================] - 149s 6s/step - loss: 0.7966 - accuracy: 0.6699 - val_loss: 0.8791 - val_accuracy: 0.5922\n",
            "Epoch 9/25\n",
            "23/23 [==============================] - 143s 6s/step - loss: 0.7832 - accuracy: 0.6716 - val_loss: 0.8397 - val_accuracy: 0.5698\n",
            "Epoch 10/25\n",
            "23/23 [==============================] - 142s 6s/step - loss: 0.7465 - accuracy: 0.6491 - val_loss: 0.7828 - val_accuracy: 0.6425\n",
            "Epoch 11/25\n",
            "23/23 [==============================] - 144s 6s/step - loss: 0.6657 - accuracy: 0.7433 - val_loss: 0.7965 - val_accuracy: 0.6034\n",
            "Epoch 12/25\n",
            "23/23 [==============================] - 145s 6s/step - loss: 0.7707 - accuracy: 0.6520 - val_loss: 0.7240 - val_accuracy: 0.6536\n",
            "Epoch 13/25\n",
            "23/23 [==============================] - 148s 6s/step - loss: 0.5860 - accuracy: 0.7540 - val_loss: 0.6406 - val_accuracy: 0.7318\n",
            "Epoch 14/25\n",
            "23/23 [==============================] - 145s 6s/step - loss: 0.6316 - accuracy: 0.7419 - val_loss: 0.9118 - val_accuracy: 0.6089\n",
            "Epoch 15/25\n",
            "23/23 [==============================] - 150s 7s/step - loss: 0.6460 - accuracy: 0.7150 - val_loss: 1.1291 - val_accuracy: 0.5754\n",
            "Epoch 16/25\n",
            "23/23 [==============================] - 140s 6s/step - loss: 0.6872 - accuracy: 0.7036 - val_loss: 0.6982 - val_accuracy: 0.7486\n",
            "Epoch 17/25\n",
            "23/23 [==============================] - 139s 6s/step - loss: 0.4900 - accuracy: 0.8186 - val_loss: 0.6603 - val_accuracy: 0.7654\n",
            "Epoch 18/25\n",
            "23/23 [==============================] - 138s 6s/step - loss: 0.3897 - accuracy: 0.8490 - val_loss: 0.6712 - val_accuracy: 0.7039\n",
            "Epoch 19/25\n",
            "23/23 [==============================] - 138s 6s/step - loss: 0.4936 - accuracy: 0.7905 - val_loss: 0.7254 - val_accuracy: 0.7095\n",
            "Epoch 20/25\n",
            "23/23 [==============================] - 139s 6s/step - loss: 0.4839 - accuracy: 0.8094 - val_loss: 0.7148 - val_accuracy: 0.6704\n",
            "Epoch 21/25\n",
            "23/23 [==============================] - 138s 6s/step - loss: 0.4102 - accuracy: 0.8315 - val_loss: 0.7532 - val_accuracy: 0.7263\n",
            "Epoch 22/25\n",
            "23/23 [==============================] - 138s 6s/step - loss: 0.2796 - accuracy: 0.8984 - val_loss: 0.7008 - val_accuracy: 0.7542\n",
            "Epoch 23/25\n",
            "23/23 [==============================] - 139s 6s/step - loss: 0.3181 - accuracy: 0.8835 - val_loss: 0.6569 - val_accuracy: 0.7374\n",
            "Epoch 24/25\n",
            "23/23 [==============================] - 138s 6s/step - loss: 0.2707 - accuracy: 0.8885 - val_loss: 0.5742 - val_accuracy: 0.7765\n",
            "Epoch 25/25\n",
            "23/23 [==============================] - 137s 6s/step - loss: 0.1450 - accuracy: 0.9612 - val_loss: 0.6097 - val_accuracy: 0.7821\n"
          ],
          "name": "stdout"
        }
      ]
    },
    {
      "cell_type": "code",
      "metadata": {
        "colab": {
          "base_uri": "https://localhost:8080/"
        },
        "id": "fRZHs_NgNZEw",
        "outputId": "e93b14a2-b969-43ec-b3e1-8f890de33e66"
      },
      "source": [
        "cd \"/content/drive/MyDrive/Colab Notebooks\""
      ],
      "execution_count": 24,
      "outputs": [
        {
          "output_type": "stream",
          "text": [
            "/content/drive/MyDrive/Colab Notebooks\n"
          ],
          "name": "stdout"
        }
      ]
    },
    {
      "cell_type": "code",
      "metadata": {
        "id": "J2Bho8R0Nbrb"
      },
      "source": [
        "mkdir -p saved_model"
      ],
      "execution_count": 25,
      "outputs": []
    },
    {
      "cell_type": "code",
      "metadata": {
        "colab": {
          "base_uri": "https://localhost:8080/"
        },
        "id": "BMtwM043Nfi3",
        "outputId": "691134ad-a35f-481b-b965-67ce26c869b2"
      },
      "source": [
        "model.save('saved_model/my_model')"
      ],
      "execution_count": 26,
      "outputs": [
        {
          "output_type": "stream",
          "text": [
            "INFO:tensorflow:Assets written to: saved_model/my_model/assets\n"
          ],
          "name": "stdout"
        }
      ]
    },
    {
      "cell_type": "code",
      "metadata": {
        "colab": {
          "base_uri": "https://localhost:8080/"
        },
        "id": "7QlwRhu8OhDg",
        "outputId": "ad3dba38-d4da-4f20-b5cb-c73a83605f3f"
      },
      "source": [
        "new_model = load_model('saved_model/my_model')\n",
        "\n",
        "new_model.summary()"
      ],
      "execution_count": 29,
      "outputs": [
        {
          "output_type": "stream",
          "text": [
            "Model: \"sequential_7\"\n",
            "_________________________________________________________________\n",
            "Layer (type)                 Output Shape              Param #   \n",
            "=================================================================\n",
            "conv2d_28 (Conv2D)           (None, 384, 512, 16)      448       \n",
            "_________________________________________________________________\n",
            "average_pooling2d_7 (Average (None, 191, 255, 16)      0         \n",
            "_________________________________________________________________\n",
            "conv2d_29 (Conv2D)           (None, 189, 253, 32)      4640      \n",
            "_________________________________________________________________\n",
            "max_pooling2d_21 (MaxPooling (None, 94, 126, 32)       0         \n",
            "_________________________________________________________________\n",
            "conv2d_30 (Conv2D)           (None, 92, 124, 64)       18496     \n",
            "_________________________________________________________________\n",
            "max_pooling2d_22 (MaxPooling (None, 46, 62, 64)        0         \n",
            "_________________________________________________________________\n",
            "conv2d_31 (Conv2D)           (None, 44, 60, 64)        36928     \n",
            "_________________________________________________________________\n",
            "max_pooling2d_23 (MaxPooling (None, 22, 30, 64)        0         \n",
            "_________________________________________________________________\n",
            "flatten_7 (Flatten)          (None, 42240)             0         \n",
            "_________________________________________________________________\n",
            "dense_14 (Dense)             (None, 64)                2703424   \n",
            "_________________________________________________________________\n",
            "activation_14 (Activation)   (None, 64)                0         \n",
            "_________________________________________________________________\n",
            "dense_15 (Dense)             (None, 3)                 195       \n",
            "_________________________________________________________________\n",
            "activation_15 (Activation)   (None, 3)                 0         \n",
            "=================================================================\n",
            "Total params: 2,764,131\n",
            "Trainable params: 2,764,131\n",
            "Non-trainable params: 0\n",
            "_________________________________________________________________\n"
          ],
          "name": "stdout"
        }
      ]
    },
    {
      "cell_type": "code",
      "metadata": {
        "colab": {
          "base_uri": "https://localhost:8080/"
        },
        "id": "_Xx-a2q_HqNb",
        "outputId": "dfac852e-947d-4509-a2bb-78be813c0d24"
      },
      "source": [
        "loss, acc = new_model.evaluate(X_test, y_test, verbose=2)\n",
        "print('Restored model, accuracy: {:5.2f}%'.format(100*acc))"
      ],
      "execution_count": 31,
      "outputs": [
        {
          "output_type": "stream",
          "text": [
            "7/7 - 13s - loss: 0.6794 - accuracy: 0.7768\n",
            "Restored model, accuracy: 77.68%\n"
          ],
          "name": "stdout"
        }
      ]
    }
  ]
}